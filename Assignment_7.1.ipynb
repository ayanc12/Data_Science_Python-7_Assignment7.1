{
 "cells": [
  {
   "cell_type": "code",
   "execution_count": 11,
   "metadata": {
    "scrolled": true
   },
   "outputs": [
    {
     "name": "stdout",
     "output_type": "stream",
     "text": [
      "Please enter comma separated sequence of numbers: 3,5,7,2,8,10,11,65,72,81,99,100,150\n",
      "Please enter window: 3\n",
      "The moving average for the sequence is : [5.0, 4.666666666666667, 5.666666666666667, 6.666666666666667, 9.666666666666666, 28.666666666666668, 49.333333333333336, 72.66666666666667, 84.0, 93.33333333333333, 116.33333333333333]\n"
     ]
    }
   ],
   "source": [
    "#Defining the moving average function\n",
    "def moving_avg(seq,win):\n",
    "    leng = len(seq) - 1\n",
    "    ini = 0\n",
    "    \n",
    "    end = win-1\n",
    "    avg = []\n",
    "    while (end <= leng):\n",
    "        sum=0\n",
    "        for elm in range(ini,end+1):\n",
    "            sum +=int(seq[elm])\n",
    "        avg.append(sum/win)\n",
    "        ini+=1\n",
    "        end+=1\n",
    "    print(\"The moving average for the sequence is : {}\".format(avg))\n",
    "\n",
    "    \n",
    "# Taking the sequence and window as input\n",
    "sequence = input(\"Please enter comma separated sequence of numbers: \")\n",
    "seq = sequence.split(\",\")\n",
    "seq1 = [int(i) for i in seq]\n",
    "window = input(\"Please enter window: \")\n",
    "win1 = int (window)\n",
    "\n",
    "# Calling the moving average function\n",
    "moving_avg(seq1,win1)\n",
    "    "
   ]
  }
 ],
 "metadata": {
  "kernelspec": {
   "display_name": "Python 3",
   "language": "python",
   "name": "python3"
  },
  "language_info": {
   "codemirror_mode": {
    "name": "ipython",
    "version": 3
   },
   "file_extension": ".py",
   "mimetype": "text/x-python",
   "name": "python",
   "nbconvert_exporter": "python",
   "pygments_lexer": "ipython3",
   "version": "3.6.4"
  }
 },
 "nbformat": 4,
 "nbformat_minor": 2
}
